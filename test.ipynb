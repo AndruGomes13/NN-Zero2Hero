{
 "cells": [
  {
   "cell_type": "code",
   "execution_count": 54,
   "metadata": {
    "collapsed": true
   },
   "outputs": [],
   "source": [
    "class Person:\n",
    "    def __init__(self, gender, age):\n",
    "        self._gender = gender\n",
    "        self._age = age\n",
    "\n",
    "    @property\n",
    "    def age(self):\n",
    "        return print(\"Age:\", self._age)\n",
    "\n",
    "    @age.setter\n",
    "    def age(self, n):\n",
    "        if n < 0:\n",
    "            print(\"Age must be greater that 0\")\n",
    "        else:\n",
    "            self._age = n\n",
    "\n",
    "    @property\n",
    "    def gender(self):\n",
    "        print(\"Gender:\", self._gender)\n",
    "\n",
    "    @gender.setter\n",
    "    def gender(self, g):\n",
    "        if g in (\"male\", \"female\"):\n",
    "            self.gender = g\n",
    "\n",
    "        else:\n",
    "            print(f'''\"{g}\" is an invalid value.''')\n",
    "\n",
    "\n",
    "\n",
    "\n",
    "    #age = property(age_get, age_set)\n",
    "    #gender = property(gender_get, gender_set)\n",
    "\n"
   ]
  },
  {
   "cell_type": "code",
   "execution_count": 56,
   "outputs": [
    {
     "name": "stdout",
     "output_type": "stream",
     "text": [
      "Age must be greater that 0\n",
      "Age: 21\n",
      "Gender: male\n"
     ]
    }
   ],
   "source": [
    "p = Person(\"male\", 21)\n",
    "p.age = -1\n",
    "p.age\n",
    "p.gender\n"
   ],
   "metadata": {
    "collapsed": false
   }
  },
  {
   "cell_type": "code",
   "execution_count": 64,
   "outputs": [],
   "source": [
    "def outer(func):\n",
    "    def func2(x):\n",
    "        return func(x) * x\n",
    "    return func2\n"
   ],
   "metadata": {
    "collapsed": false
   }
  },
  {
   "cell_type": "code",
   "execution_count": 62,
   "outputs": [],
   "source": [],
   "metadata": {
    "collapsed": false
   }
  },
  {
   "cell_type": "code",
   "execution_count": 68,
   "outputs": [],
   "source": [
    "@outer\n",
    "def inner(t):\n",
    "    return t + 1\n"
   ],
   "metadata": {
    "collapsed": false
   }
  },
  {
   "cell_type": "code",
   "execution_count": 37,
   "outputs": [
    {
     "ename": "AttributeError",
     "evalue": "'function' object has no attribute 'setter'",
     "output_type": "error",
     "traceback": [
      "\u001B[1;31m---------------------------------------------------------------------------\u001B[0m",
      "\u001B[1;31mAttributeError\u001B[0m                            Traceback (most recent call last)",
      "Cell \u001B[1;32mIn[37], line 1\u001B[0m\n\u001B[1;32m----> 1\u001B[0m \u001B[38;5;28;01mclass\u001B[39;00m \u001B[38;5;21;01mPerson2\u001B[39;00m:\n\u001B[0;32m      2\u001B[0m     \u001B[38;5;28;01mdef\u001B[39;00m \u001B[38;5;21m__init__\u001B[39m(\u001B[38;5;28mself\u001B[39m, gender, age):\n\u001B[0;32m      3\u001B[0m         \u001B[38;5;28mself\u001B[39m\u001B[38;5;241m.\u001B[39m_gender \u001B[38;5;241m=\u001B[39m gender\n",
      "Cell \u001B[1;32mIn[37], line 19\u001B[0m, in \u001B[0;36mPerson2\u001B[1;34m()\u001B[0m\n\u001B[0;32m     15\u001B[0m     \u001B[38;5;28;01melse\u001B[39;00m:\n\u001B[0;32m     16\u001B[0m         \u001B[38;5;28mself\u001B[39m\u001B[38;5;241m.\u001B[39m_age \u001B[38;5;241m=\u001B[39m n\n\u001B[1;32m---> 19\u001B[0m \u001B[43mage\u001B[49m\u001B[38;5;241;43m.\u001B[39;49m\u001B[43msetter\u001B[49m(age)\n",
      "\u001B[1;31mAttributeError\u001B[0m: 'function' object has no attribute 'setter'"
     ]
    }
   ],
   "source": [
    "class Person2:\n",
    "    def __init__(self, gender, age):\n",
    "        self._gender = gender\n",
    "        self._age = age\n",
    "\n",
    "    def __setattr__(self, key, value):\n",
    "        print(key)\n",
    "        print(value)\n",
    "\n",
    "\n"
   ],
   "metadata": {
    "collapsed": false
   }
  },
  {
   "cell_type": "code",
   "execution_count": 60,
   "outputs": [
    {
     "data": {
      "text/plain": "['__class__',\n '__delattr__',\n '__dict__',\n '__dir__',\n '__doc__',\n '__eq__',\n '__format__',\n '__ge__',\n '__getattribute__',\n '__gt__',\n '__hash__',\n '__init__',\n '__init_subclass__',\n '__le__',\n '__lt__',\n '__module__',\n '__ne__',\n '__new__',\n '__reduce__',\n '__reduce_ex__',\n '__repr__',\n '__setattr__',\n '__sizeof__',\n '__str__',\n '__subclasshook__',\n '__weakref__',\n '_age',\n '_gender',\n 'age']"
     },
     "execution_count": 60,
     "metadata": {},
     "output_type": "execute_result"
    }
   ],
   "source": [
    "p  = Person2(\"male\", 2)\n",
    "dir(p)"
   ],
   "metadata": {
    "collapsed": false
   }
  },
  {
   "cell_type": "code",
   "execution_count": 68,
   "outputs": [
    {
     "data": {
      "text/plain": "<method-wrapper '__le__' of Person2 object at 0x00000139A669D460>"
     },
     "execution_count": 68,
     "metadata": {},
     "output_type": "execute_result"
    }
   ],
   "source": [
    "a = p"
   ],
   "metadata": {
    "collapsed": false
   }
  },
  {
   "cell_type": "code",
   "execution_count": null,
   "outputs": [],
   "source": [
    "print(\"Teste\")"
   ],
   "metadata": {
    "collapsed": false
   }
  }
 ],
 "metadata": {
  "kernelspec": {
   "display_name": "Python 3",
   "language": "python",
   "name": "python3"
  },
  "language_info": {
   "codemirror_mode": {
    "name": "ipython",
    "version": 2
   },
   "file_extension": ".py",
   "mimetype": "text/x-python",
   "name": "python",
   "nbconvert_exporter": "python",
   "pygments_lexer": "ipython2",
   "version": "2.7.6"
  }
 },
 "nbformat": 4,
 "nbformat_minor": 0
}
